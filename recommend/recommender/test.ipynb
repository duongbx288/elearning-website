{
 "cells": [
  {
   "cell_type": "code",
   "execution_count": 1,
   "metadata": {},
   "outputs": [],
   "source": [
    "import recommendation_system.recommend_system_package.contented_base\n",
    "import recommendation_system.recommend_system_package.collab_filtering\n",
    "import matplotlib.pyplot as plt\n",
    "import recommendation_system.function_package.read_data_function\n",
    "import pandas as pd\n",
    "import numpy as np"
   ]
  },
  {
   "cell_type": "code",
   "execution_count": 2,
   "metadata": {},
   "outputs": [
    {
     "name": "stdout",
     "output_type": "stream",
     "text": [
      "252\n",
      "49\n",
      "     student_id  course_id  rating                                name\n",
      "0             1          1       5                Learn more about pRe\n",
      "1             1          1       5                Learn more about pRe\n",
      "2             2          1       3                Learn more about pRe\n",
      "3             1          1       5                Learn more about pRe\n",
      "4             4          1       1                Learn more about pRe\n",
      "..          ...        ...     ...                                 ...\n",
      "247          13         47       4  Technical Writing and Presentation\n",
      "248          15         47       5  Technical Writing and Presentation\n",
      "249          22         47       5  Technical Writing and Presentation\n",
      "250          23         47       5  Technical Writing and Presentation\n",
      "251          25         47       5  Technical Writing and Presentation\n",
      "\n",
      "[252 rows x 4 columns]\n"
     ]
    }
   ],
   "source": [
    "rating_columns = ['student_id', 'course_id', 'rating']\n",
    "course_names = ['course_id', 'name']\n",
    "ratings_base = pd.read_csv('course_data/rating.csv', sep=',', names=rating_columns, encoding='latin-1')\n",
    "\n",
    "course_names = pd.read_csv('course_data/course.csv', sep=',' , names=course_names, on_bad_lines='skip')\n",
    "\n",
    "print(len(ratings_base))\n",
    "print(len(course_names))\n",
    "\n",
    "# rating = ratings_base.to_numpy()\n",
    "# rating[:, :2] -= 1\n",
    "\n",
    "rating = recommendation_system.function_package.read_data_function.get_dataframe_ratings_base('course_data/rating.csv')\n",
    "\n",
    "course_data = pd.merge(ratings_base, course_names, on='course_id')\n",
    "\n",
    "print(course_data)"
   ]
  },
  {
   "cell_type": "code",
   "execution_count": 3,
   "metadata": {},
   "outputs": [
    {
     "name": "stdout",
     "output_type": "stream",
     "text": [
      "                                                      rating  \\\n",
      "name                                                           \n",
      "72 AutoCAD 2D & 3D Drawings and Practical Projects  3.285714   \n",
      "Acoustic Guitar and Electric Guitar Lessons: Ge...  3.300000   \n",
      "Adobe Illustrator Advanced Vector Artwork           3.285714   \n",
      "Adobe Illustrator CC Mastery: Zero to Hero in I...  3.666667   \n",
      "Affinity Photo for the iPad                         2.833333   \n",
      "AutoCAD 2021 Complete Course - Practical Approach   3.500000   \n",
      "Become a SpeedDemon 1: Productivity Tricks to H...  3.800000   \n",
      "Beginner Nikon Digital SLR (DSLR) Photography       4.000000   \n",
      "Complete Guitar Lessons System - Beginner to Ad...  4.000000   \n",
      "Ghep anh chuyen nghiep voi Photoshop                3.500000   \n",
      "Hoc Autocad co ban cho den nang cao                 4.250000   \n",
      "Hoc ve chung khoan                                  3.500000   \n",
      "How To Build A Brand On Social Media!               4.666667   \n",
      "Hệ thống thông tin quản lý                          4.500000   \n",
      "Kinh tế học vĩ mô đại cương                         4.000000   \n",
      "Kỹ năng mềm                                         4.714286   \n",
      "Learn Guitar in 21 Days                             4.000000   \n",
      "Learn To Play The Drums                             2.428571   \n",
      "Learn more about CLI, GIT                           4.571429   \n",
      "Learn more about pRe                                3.900000   \n",
      "Learn to Play Clarinet: Beginner to Pro in Unde...  5.000000   \n",
      "Learn to Play Saxophone: Beginner to Pro in Und...  4.333333   \n",
      "Learn to Play the Flute: Beginner Basics to Int...  4.000000   \n",
      "Learn to Play the Trumpet: Beginner to Pro Made...  4.500000   \n",
      "Logo Design Masterclass: Learn Logo Design and ...  4.428571   \n",
      "Nguyên lý marketing                                 4.000000   \n",
      "Permanent makeup full LIPS masterclass              3.666667   \n",
      "Photography - The Ultimate Guide to Using Off-C...  3.400000   \n",
      "Photoshop                                           3.583333   \n",
      "Photoshop Beginners Mastery: Zero to Hero in Ph...  3.666667   \n",
      "Pháp luật đại cương                                 4.666667   \n",
      "Portrait Photography: Share with Joy!               2.000000   \n",
      "Quản trị mạng                                       4.000000   \n",
      "SUPERHUMAN Productivity 10X: The Secret Skill O...  4.500000   \n",
      "Social Media Marketing MASTERY 2023 | Ads on 10...  4.500000   \n",
      "Technical Writing and Presentation                  4.800000   \n",
      "The Ultimate Eyelash Extension Course               4.000000   \n",
      "The complete AutoCAD 2018-21 course                 2.750000   \n",
      "These 5 Productivity Hacks Will Change the Way ...  4.500000   \n",
      "Thuật toán ứng dụng                                 4.000000   \n",
      "Thống kê ứng dụng                                   3.333333   \n",
      "Time Management Secrets For Busy People             4.200000   \n",
      "Tin học đại cương                                   4.285714   \n",
      "Tâm lý học ứng dụng                                 4.500000   \n",
      "Ultimate SEO, Social Media, & Digital Marketing...  4.000000   \n",
      "Web scraping with Python                            4.428571   \n",
      "iPhone Photography | Take Professional Photos O...  4.250000   \n",
      "\n",
      "                                                    total number of ratings  \n",
      "name                                                                         \n",
      "72 AutoCAD 2D & 3D Drawings and Practical Projects                        7  \n",
      "Acoustic Guitar and Electric Guitar Lessons: Ge...                       10  \n",
      "Adobe Illustrator Advanced Vector Artwork                                 7  \n",
      "Adobe Illustrator CC Mastery: Zero to Hero in I...                        9  \n",
      "Affinity Photo for the iPad                                               6  \n",
      "AutoCAD 2021 Complete Course - Practical Approach                         4  \n",
      "Become a SpeedDemon 1: Productivity Tricks to H...                        5  \n",
      "Beginner Nikon Digital SLR (DSLR) Photography                             3  \n",
      "Complete Guitar Lessons System - Beginner to Ad...                        3  \n",
      "Ghep anh chuyen nghiep voi Photoshop                                      8  \n",
      "Hoc Autocad co ban cho den nang cao                                       8  \n",
      "Hoc ve chung khoan                                                        4  \n",
      "How To Build A Brand On Social Media!                                     3  \n",
      "Hệ thống thông tin quản lý                                                2  \n",
      "Kinh tế học vĩ mô đại cương                                               2  \n",
      "Kỹ năng mềm                                                               7  \n",
      "Learn Guitar in 21 Days                                                   4  \n",
      "Learn To Play The Drums                                                   7  \n",
      "Learn more about CLI, GIT                                                 7  \n",
      "Learn more about pRe                                                     10  \n",
      "Learn to Play Clarinet: Beginner to Pro in Unde...                        3  \n",
      "Learn to Play Saxophone: Beginner to Pro in Und...                        9  \n",
      "Learn to Play the Flute: Beginner Basics to Int...                        1  \n",
      "Learn to Play the Trumpet: Beginner to Pro Made...                        4  \n",
      "Logo Design Masterclass: Learn Logo Design and ...                        7  \n",
      "Nguyên lý marketing                                                       4  \n",
      "Permanent makeup full LIPS masterclass                                    6  \n",
      "Photography - The Ultimate Guide to Using Off-C...                        5  \n",
      "Photoshop                                                                12  \n",
      "Photoshop Beginners Mastery: Zero to Hero in Ph...                        9  \n",
      "Pháp luật đại cương                                                       6  \n",
      "Portrait Photography: Share with Joy!                                     2  \n",
      "Quản trị mạng                                                             3  \n",
      "SUPERHUMAN Productivity 10X: The Secret Skill O...                        2  \n",
      "Social Media Marketing MASTERY 2023 | Ads on 10...                        2  \n",
      "Technical Writing and Presentation                                        5  \n",
      "The Ultimate Eyelash Extension Course                                     3  \n",
      "The complete AutoCAD 2018-21 course                                       8  \n",
      "These 5 Productivity Hacks Will Change the Way ...                        4  \n",
      "Thuật toán ứng dụng                                                       5  \n",
      "Thống kê ứng dụng                                                         3  \n",
      "Time Management Secrets For Busy People                                   5  \n",
      "Tin học đại cương                                                         7  \n",
      "Tâm lý học ứng dụng                                                       4  \n",
      "Ultimate SEO, Social Media, & Digital Marketing...                        6  \n",
      "Web scraping with Python                                                  7  \n",
      "iPhone Photography | Take Professional Photos O...                        4  \n"
     ]
    },
    {
     "data": {
      "image/png": "[encoded data removed]",
      "text/plain": [
       "<Figure size 1000x400 with 1 Axes>"
      ]
     },
     "metadata": {},
     "output_type": "display_data"
    }
   ],
   "source": [
    "trend = pd.DataFrame(course_data.groupby('name')['rating'].mean())\n",
    "trend['total number of ratings'] = pd.DataFrame(course_data.groupby('name')['rating'].count())\n",
    "\n",
    "# for index, row in trend.iterrows():\n",
    "#     print(index, row[0], int(row[1].round()))\n",
    "print(trend)\n",
    "plt.figure(figsize=(10, 4))\n",
    "plt.bar(trend['rating'].round(),trend['total number of ratings'], color='g')\n",
    "\n",
    "plt.xlabel('Rating')\n",
    "plt.xticks([1,2,3,4,5])\n",
    "plt.ylabel('Course number')\n",
    "plt.title('Courses ratings')\n",
    "plt.show()\n",
    "\n"
   ]
  },
  {
   "cell_type": "code",
   "execution_count": 4,
   "metadata": {},
   "outputs": [],
   "source": [
    "course_names1 = ['id', 'name']\n",
    "\n",
    "course_names1 = pd.read_csv('course_data/course.csv', sep=',', names=course_names1)\n",
    "\n",
    "list_c = course_names1['name'].values "
   ]
  },
  {
   "cell_type": "code",
   "execution_count": 5,
   "metadata": {},
   "outputs": [
    {
     "name": "stderr",
     "output_type": "stream",
     "text": [
      "c:\\Users\\dell\\AppData\\Local\\Programs\\Python\\Python311\\Lib\\site-packages\\numpy\\core\\fromnumeric.py:3464: RuntimeWarning: Mean of empty slice.\n",
      "  return _methods._mean(a, axis=axis, dtype=dtype,\n",
      "c:\\Users\\dell\\AppData\\Local\\Programs\\Python\\Python311\\Lib\\site-packages\\numpy\\core\\_methods.py:192: RuntimeWarning: invalid value encountered in scalar divide\n",
      "  ret = ret.dtype.type(ret / rcount)\n"
     ]
    }
   ],
   "source": [
    "cf_rs = recommendation_system.recommend_system_package.collab_filtering.CF(rating, k = 2, uuCF = 1)\n",
    "cf_rs.fit()\n",
    "# print(recommend)"
   ]
  },
  {
   "cell_type": "code",
   "execution_count": 7,
   "metadata": {},
   "outputs": [
    {
     "name": "stdout",
     "output_type": "stream",
     "text": [
      "Số lượng khóa học: 9\n",
      "[{'id': 11, 'name': 'Photoshop Beginners Mastery: Zero to Hero in Photoshop'}, {'id': 19, 'name': 'Learn Guitar in 21 Days'}, {'id': 32, 'name': 'Permanent makeup full LIPS masterclass'}, {'id': 35, 'name': 'How To Build A Brand On Social Media!'}, {'id': 36, 'name': 'Ultimate SEO, Social Media, & Digital Marketing Course 2023'}, {'id': 38, 'name': 'Kỹ năng mềm'}, {'id': 40, 'name': 'Thuật toán ứng dụng'}, {'id': 43, 'name': 'Nguyên lý marketing'}, {'id': 47, 'name': 'Technical Writing and Presentation'}]\n",
      "[{'id': 47, 'similar': 0.9999999793264736}, {'id': 11, 'similar': 0.9999999617573552}, {'id': 19, 'similar': 0.9999999617573552}, {'id': 38, 'similar': 0.9999999617573552}, {'id': 32, 'similar': 0.999999955000002}, {'id': 35, 'similar': 0.999999955000002}, {'id': 36, 'similar': 0.999999955000002}, {'id': 40, 'similar': 0.999999955000002}, {'id': 43, 'similar': 0.5405882806684628}, {'id': 0, 'similar': 0.0}]\n"
     ]
    }
   ],
   "source": [
    "# Hàm recommend \n",
    "#   input: id của người dùng\n",
    "#   output: đưa ra 1 list id các khóa học mà hệ thống \n",
    "#           dự đoán người dùng sẽ thích ( rate > 0 )\n",
    "recommend = cf_rs.recommend(1)\n",
    "list = []\n",
    "for i in range(len(recommend)):\n",
    "    new = {\n",
    "        'id': recommend[i],\n",
    "        'name': list_c[recommend[i] - 1]\n",
    "    }\n",
    "    list.append(new)\n",
    "print('Số lượng khóa học:', len(list))\n",
    "print(list)\n",
    "\n",
    "recommend_top = cf_rs.recommend_top(1, 10)\n",
    "print(recommend_top)"
   ]
  }
 ],
 "metadata": {
  "kernelspec": {
   "display_name": "Python 3",
   "language": "python",
   "name": "python3"
  },
  "language_info": {
   "codemirror_mode": {
    "name": "ipython",
    "version": 3
   },
   "file_extension": ".py",
   "mimetype": "text/x-python",
   "name": "python",
   "nbconvert_exporter": "python",
   "pygments_lexer": "ipython3",
   "version": "3.11.1"
  },
  "orig_nbformat": 4,
  "vscode": {
   "interpreter": {
    "hash": "4873c8d68dc7d05f027107aa992795e76291eb1080f3d61c92f530e364807ec7"
   }
  }
 },
 "nbformat": 4,
 "nbformat_minor": 2
}
